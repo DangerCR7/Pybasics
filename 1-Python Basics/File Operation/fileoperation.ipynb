{
 "cells": [
  {
   "cell_type": "markdown",
   "metadata": {
    "vscode": {
     "languageId": "plaintext"
    }
   },
   "source": [
    "## File Operations - Read And Write File"
   ]
  },
  {
   "cell_type": "code",
   "execution_count": 6,
   "metadata": {},
   "outputs": [
    {
     "name": "stdout",
     "output_type": "stream",
     "text": [
      "Hey!! Welcome to the new journey\n",
      "\n"
     ]
    }
   ],
   "source": [
    "## Reading and Writing Files\n",
    "\n",
    "with open(\"source.txt\", mode='r+') as file:\n",
    "    content=file.read()\n",
    "    print(content)\n",
    "    file.write(\"Now you'r going to learn Python from Basics\")"
   ]
  },
  {
   "cell_type": "code",
   "execution_count": 9,
   "metadata": {},
   "outputs": [
    {
     "name": "stdout",
     "output_type": "stream",
     "text": [
      "Hey!! Welcome to the new journey\n",
      "\n",
      "Hey!! Welcome to the new journey\n",
      "Now you'r going to learn Python from Basics\n",
      "Now you'r going to learn Python from Basics\n"
     ]
    }
   ],
   "source": [
    "with open (\"source.txt\",'r') as file:\n",
    "    for line in file:\n",
    "        print(line)\n",
    "        print(line.strip())"
   ]
  },
  {
   "cell_type": "code",
   "execution_count": 12,
   "metadata": {},
   "outputs": [],
   "source": [
    "## Writing a file (Overwriting)\n",
    "with open(\"source.txt\",'w') as file:\n",
    "    file.write(\"Welcome back\")\n",
    "    file.write(\" \\n This is a new line\")"
   ]
  },
  {
   "cell_type": "code",
   "execution_count": 15,
   "metadata": {},
   "outputs": [],
   "source": [
    "## To write the file without overwriting we need to use append mode\n",
    "with open(\"source.txt\",\"a\") as file:\n",
    "    file.write(\"\\nAppend operation is taking place\")"
   ]
  },
  {
   "cell_type": "code",
   "execution_count": 17,
   "metadata": {},
   "outputs": [],
   "source": [
    "## Writing list of lines to a file\n",
    "\n",
    "lines=[\"First line\\n\",\"Second line\\n\",\"Third line\\n\"]\n",
    "with open (\"source.txt\",'a') as file:\n",
    "    file.writelines(lines)"
   ]
  },
  {
   "cell_type": "code",
   "execution_count": 19,
   "metadata": {},
   "outputs": [],
   "source": [
    "## Accessing the binary file\n",
    "data=b'\\x00\\x01\\x02\\x03\\x04'\n",
    "with open (\"example.bin\",'wb') as file:\n",
    "    file.write(data)"
   ]
  },
  {
   "cell_type": "code",
   "execution_count": 20,
   "metadata": {},
   "outputs": [
    {
     "name": "stdout",
     "output_type": "stream",
     "text": [
      "b'\\x00\\x01\\x02\\x03\\x04'\n"
     ]
    }
   ],
   "source": [
    "with open (\"example.bin\",'rb') as file:\n",
    "    content=file.read()\n",
    "    print(content)"
   ]
  },
  {
   "cell_type": "code",
   "execution_count": 21,
   "metadata": {},
   "outputs": [],
   "source": [
    "## Read the content from the source txt file  and write to a destination text file\n",
    "with open(\"source.txt\",'r') as file:\n",
    "    content=file.read()\n",
    "    \n",
    "with open(\"destiontion.txt\",'w') as dest_file:\n",
    "    dest_file.write(content)"
   ]
  },
  {
   "cell_type": "code",
   "execution_count": 25,
   "metadata": {},
   "outputs": [
    {
     "name": "stdout",
     "output_type": "stream",
     "text": [
      "Lines:6,Words:26,Characters:166\n"
     ]
    }
   ],
   "source": [
    "## read a text file and count the no.of lines ,words and characters\n",
    "def count_text_file(file_path):\n",
    "    with open(file_path,'r') as file:\n",
    "        lines=file.readlines()\n",
    "        line_count=len(lines)\n",
    "        word_count=sum(len(line.split()) for line in lines)\n",
    "        char_count=sum(len(line) for line in lines) \n",
    "    return line_count,word_count,char_count\n",
    "\n",
    "file_path=\"source.txt\"\n",
    "lines,words,chars= count_text_file(file_path)\n",
    "print(f\"Lines:{lines},Words:{words},Characters:{chars}\")   \n",
    "        \n",
    "    "
   ]
  },
  {
   "cell_type": "code",
   "execution_count": 29,
   "metadata": {},
   "outputs": [
    {
     "name": "stdout",
     "output_type": "stream",
     "text": [
      "Hello!! World\n",
      "How are you\n",
      "\n"
     ]
    }
   ],
   "source": [
    "## Writing and then reading a file\n",
    "\n",
    "with open(\"example1.txt\",\"w+\") as file:\n",
    "    file.write(\"Hello!! World\\n\")\n",
    "    file.write(\"How are you\\n\")\n",
    "    \n",
    "    ## Moving the cursor to the beginning\n",
    "    file.seek(0)\n",
    "    ## Reading the file\n",
    "    content=file.read()\n",
    "    print(content)"
   ]
  },
  {
   "cell_type": "code",
   "execution_count": 30,
   "metadata": {},
   "outputs": [
    {
     "name": "stdout",
     "output_type": "stream",
     "text": [
      "False\n"
     ]
    }
   ],
   "source": []
  }
 ],
 "metadata": {
  "kernelspec": {
   "display_name": "Python 3",
   "language": "python",
   "name": "python3"
  },
  "language_info": {
   "codemirror_mode": {
    "name": "ipython",
    "version": 3
   },
   "file_extension": ".py",
   "mimetype": "text/x-python",
   "name": "python",
   "nbconvert_exporter": "python",
   "pygments_lexer": "ipython3",
   "version": "3.12.0"
  }
 },
 "nbformat": 4,
 "nbformat_minor": 2
}
