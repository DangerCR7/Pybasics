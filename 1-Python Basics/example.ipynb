{
 "cells": [
  {
   "cell_type": "code",
   "execution_count": 12,
   "metadata": {},
   "outputs": [
    {
     "name": "stdout",
     "output_type": "stream",
     "text": [
      "['1', '2', '3']\n",
      "124\n"
     ]
    }
   ],
   "source": [
    "\n",
    "def int_to_str(r):\n",
    "    i=str(r)\n",
    "    return i\n",
    "\n",
    "s=[1,2,3]\n",
    "st=list(map(int_to_str,s))\n",
    "print(st)    \n",
    "\n",
    "res=(\"\".join(st)) \n",
    "print(int(res)+1)\n",
    "    \n"
   ]
  },
  {
   "cell_type": "code",
   "execution_count": 22,
   "metadata": {},
   "outputs": [
    {
     "name": "stdout",
     "output_type": "stream",
     "text": [
      "124\n",
      "['1', '2', '4']\n"
     ]
    }
   ],
   "source": [
    "digit=[1,2,3]\n",
    "def plusOne(digit):\n",
    "    res=[]\n",
    "    for i in digit:\n",
    "        res.append(str(i))\n",
    "    return(res)\n",
    "plusOne(digit)\n",
    "\n",
    "final=(\"\".join(res))\n",
    "final_res=int(final)+1\n",
    "print(final_res)\n",
    "str_res=str(final_res)\n",
    "\n",
    "print(list(str_res))\n",
    "        \n",
    "        "
   ]
  },
  {
   "cell_type": "code",
   "execution_count": 26,
   "metadata": {},
   "outputs": [
    {
     "ename": "TypeError",
     "evalue": "addBinary() missing 1 required positional argument: 'b'",
     "output_type": "error",
     "traceback": [
      "\u001b[1;31m---------------------------------------------------------------------------\u001b[0m",
      "\u001b[1;31mTypeError\u001b[0m                                 Traceback (most recent call last)",
      "Cell \u001b[1;32mIn[26], line 7\u001b[0m\n\u001b[0;32m      5\u001b[0m         sum_int\u001b[38;5;241m=\u001b[39mint1\u001b[38;5;241m+\u001b[39mint2\n\u001b[0;32m      6\u001b[0m         \u001b[38;5;28;01mreturn\u001b[39;00m \u001b[38;5;28mbin\u001b[39m(sum_int)[\u001b[38;5;241m2\u001b[39m:]\n\u001b[1;32m----> 7\u001b[0m \u001b[43maddBinary\u001b[49m\u001b[43m(\u001b[49m\u001b[38;5;124;43m\"\u001b[39;49m\u001b[38;5;124;43m11\u001b[39;49m\u001b[38;5;124;43m\"\u001b[39;49m\u001b[43m,\u001b[49m\u001b[38;5;124;43m\"\u001b[39;49m\u001b[38;5;124;43m1\u001b[39;49m\u001b[38;5;124;43m\"\u001b[39;49m\u001b[43m)\u001b[49m\n",
      "\u001b[1;31mTypeError\u001b[0m: addBinary() missing 1 required positional argument: 'b'"
     ]
    }
   ],
   "source": [
    "\n",
    "def addBinary(self, a: str, b: str) -> str:\n",
    "        int1=int(a)\n",
    "        int2=int(b)\n",
    "\n",
    "        sum_int=int1+int2\n",
    "        return bin(sum_int)[2:]\n",
    "    \n",
    "addBinary(\"11\",\"1\")"
   ]
  },
  {
   "cell_type": "code",
   "execution_count": 33,
   "metadata": {},
   "outputs": [
    {
     "name": "stdout",
     "output_type": "stream",
     "text": [
      "1100\n"
     ]
    }
   ],
   "source": [
    "a=\"11\"\n",
    "b=\"1\"\n",
    "res=bin(int(a)+int(b))[2:]\n",
    "print(res)"
   ]
  },
  {
   "cell_type": "code",
   "execution_count": 9,
   "metadata": {},
   "outputs": [
    {
     "name": "stdout",
     "output_type": "stream",
     "text": [
      "['3', '4', '2'] ['4', '6', '5']\n",
      "807\n"
     ]
    },
    {
     "data": {
      "text/plain": [
       "['7', '0', '8']"
      ]
     },
     "execution_count": 9,
     "metadata": {},
     "output_type": "execute_result"
    }
   ],
   "source": [
    "a=[2,4,3]\n",
    "b=[5,6,4]\n",
    "a1=[]\n",
    "b1=[]\n",
    "def adding_to_integers(a,b):\n",
    "    l_int1=a[::-1]\n",
    "    l_int2=b[::-1]\n",
    "    for i in l_int1:\n",
    "        a1.append(str(i))\n",
    "    \n",
    "    for j in l_int2:\n",
    "        b1.append(str(j))\n",
    "    \n",
    "    int1=(\"\".join(a1))\n",
    "    int2=(\"\".join(b1))\n",
    "    sum_int=(int(int1)+int(int2))\n",
    "    \n",
    "    l_sum_int=list(str(sum_int))\n",
    "    return (l_sum_int[::-1])\n",
    "adding_to_integers(a,b)"
   ]
  },
  {
   "cell_type": "code",
   "execution_count": 38,
   "metadata": {},
   "outputs": [
    {
     "name": "stdout",
     "output_type": "stream",
     "text": [
      "[10, 10, 10]\n",
      "-1\n"
     ]
    }
   ],
   "source": [
    "arr=[10,10,10]\n",
    "res=[]\n",
    "arr.sort()\n",
    "print(arr)\n",
    "i=max(arr)\n",
    "for j in arr:\n",
    "    if i!=j:\n",
    "        res.append(j)\n",
    "        \n",
    "if len(res)==0:\n",
    "    print(\"-1\")  \n",
    "else:  \n",
    "    print(res)   "
   ]
  },
  {
   "cell_type": "code",
   "execution_count": 56,
   "metadata": {},
   "outputs": [
    {
     "name": "stdout",
     "output_type": "stream",
     "text": [
      "[1, 2, 3, 7, 0, 0, 0]\n"
     ]
    }
   ],
   "source": [
    "arr=[0,0,0,1,2,3,7]\n",
    "arr.sort()\n",
    "\n",
    "res=[]\n",
    "for i in arr[:]:\n",
    "    if i==0:\n",
    "      res.append(i)\n",
    "      arr.remove(i)\n",
    "    \n",
    "\n",
    "arr.extend(res)\n",
    "print(arr)\n"
   ]
  },
  {
   "cell_type": "code",
   "execution_count": 65,
   "metadata": {},
   "outputs": [
    {
     "name": "stdout",
     "output_type": "stream",
     "text": [
      "[4, 3, 2, 1, 0, 0, 0, 0, 0]\n",
      "[0, 0, 0, 0, 0]\n",
      "[1, 2, 3, 4]\n",
      "[1, 2, 3, 4, 0, 0, 0, 0, 0]\n"
     ]
    }
   ],
   "source": [
    "arr=[0,0,1,0,2,0,3,4,0]\n",
    "arr.sort()\n",
    "arr.reverse()\n",
    "print(arr)\n",
    "zeros=[i for i in arr if i==0]\n",
    "print(zeros)\n",
    "arr=[i for i in arr if i!=0]\n",
    "arr.reverse()\n",
    "print(arr)\n",
    "arr.extend(zeros)\n",
    "print(arr)"
   ]
  },
  {
   "cell_type": "code",
   "execution_count": 4,
   "metadata": {},
   "outputs": [
    {
     "data": {
      "text/plain": [
       "[3, 6, 5, 2, 1]"
      ]
     },
     "execution_count": 4,
     "metadata": {},
     "output_type": "execute_result"
    }
   ],
   "source": [
    "def reverseArray(arr):\n",
    "    n=len(arr)\n",
    "    temp=[0]*n\n",
    "    \n",
    "    for i in range(n):\n",
    "        temp[i]= arr[n-1-i]\n",
    "        \n",
    "    \n",
    "    for i in range (n):\n",
    "        arr[i]=temp[i]\n",
    "    return arr\n",
    "\n",
    "arr=[1,2,5,6,3]\n",
    "reverseArray(arr)\n"
   ]
  },
  {
   "cell_type": "code",
   "execution_count": null,
   "metadata": {},
   "outputs": [],
   "source": []
  },
  {
   "cell_type": "code",
   "execution_count": 12,
   "metadata": {},
   "outputs": [
    {
     "name": "stdout",
     "output_type": "stream",
     "text": [
      "1\n"
     ]
    }
   ],
   "source": [
    "arr=[5,4,6,5,3,1]\n",
    "n=len(arr)\n",
    "pivot=-1\n",
    "for i in range (n-2,-1,-1):\n",
    "    if arr[i]<arr[i+1]:\n",
    "         pivot =i\n",
    "         print(pivot)\n"
   ]
  },
  {
   "cell_type": "code",
   "execution_count": 9,
   "metadata": {},
   "outputs": [
    {
     "name": "stdout",
     "output_type": "stream",
     "text": [
      "{1, 3, 21, 7, 11, 13}\n"
     ]
    }
   ],
   "source": [
    "s1={11, 7 ,1 ,13, 21, 3 ,7 ,3}\n",
    "s2={11 ,3 ,7 ,1, 7}\n",
    "s1=set(s1)\n",
    "print(s1)"
   ]
  },
  {
   "cell_type": "code",
   "execution_count": 39,
   "metadata": {},
   "outputs": [
    {
     "name": "stdout",
     "output_type": "stream",
     "text": [
      "[1, 2, 3]\n",
      "1\n"
     ]
    }
   ],
   "source": [
    "arr=[2,3]\n",
    "arr.sort()\n",
    "\n",
    "n=len(arr)\n",
    "arr1=[i+1 for i in range(0,n+1)]\n",
    "print(arr1)\n",
    "\n",
    "for i in arr1:\n",
    "    if i not in (arr):\n",
    "       print (i)"
   ]
  },
  {
   "cell_type": "code",
   "execution_count": null,
   "metadata": {},
   "outputs": [
    {
     "ename": "NameError",
     "evalue": "name 'arr1' is not defined",
     "output_type": "error",
     "traceback": [
      "\u001b[1;31m---------------------------------------------------------------------------\u001b[0m",
      "\u001b[1;31mNameError\u001b[0m                                 Traceback (most recent call last)",
      "Cell \u001b[1;32mIn[2], line 3\u001b[0m\n\u001b[0;32m      1\u001b[0m arr\u001b[38;5;241m=\u001b[39m[\u001b[38;5;241m1\u001b[39m,\u001b[38;5;241m2\u001b[39m,\u001b[38;5;241m3\u001b[39m]\n\u001b[0;32m      2\u001b[0m \u001b[38;5;28msum\u001b[39m\u001b[38;5;241m=\u001b[39m\u001b[38;5;28msum\u001b[39m(arr)\n\u001b[1;32m----> 3\u001b[0m \u001b[38;5;28mprint\u001b[39m(\u001b[43marr1\u001b[49m)\n\u001b[0;32m      4\u001b[0m \u001b[38;5;28mprint\u001b[39m(\u001b[38;5;28msum\u001b[39m)\n",
      "\u001b[1;31mNameError\u001b[0m: name 'arr1' is not defined"
     ]
    }
   ],
   "source": [
    "arr=[1,2,3]\n",
    "sum=sum(arr)\n",
    "\n",
    "print(sum)"
   ]
  },
  {
   "cell_type": "code",
   "execution_count": 1,
   "metadata": {},
   "outputs": [
    {
     "ename": "ModuleNotFoundError",
     "evalue": "No module named 'pytesseract'",
     "output_type": "error",
     "traceback": [
      "\u001b[1;31m---------------------------------------------------------------------------\u001b[0m",
      "\u001b[1;31mModuleNotFoundError\u001b[0m                       Traceback (most recent call last)",
      "Cell \u001b[1;32mIn[1], line 1\u001b[0m\n\u001b[1;32m----> 1\u001b[0m \u001b[38;5;28;01mimport\u001b[39;00m \u001b[38;5;21;01mpytesseract\u001b[39;00m\n\u001b[0;32m      2\u001b[0m \u001b[38;5;28;01mfrom\u001b[39;00m \u001b[38;5;21;01mPIL\u001b[39;00m \u001b[38;5;28;01mimport\u001b[39;00m Image\n\u001b[0;32m      4\u001b[0m \u001b[38;5;66;03m# Load the images\u001b[39;00m\n",
      "\u001b[1;31mModuleNotFoundError\u001b[0m: No module named 'pytesseract'"
     ]
    }
   ],
   "source": [
    "import pytesseract\n",
    "from PIL import Image\n",
    "\n",
    "# Load the images\n",
    "image_paths = [\"/mnt/data/Screenshot (87).png\", \"/mnt/data/Screenshot (89).png\", \"/mnt/data/Screenshot (90).png\"]\n",
    "extracted_text = \"\"\n",
    "\n",
    "# Extract text from each image\n",
    "for path in image_paths:\n",
    "    img = Image.open(path)\n",
    "    extracted_text += pytesseract.image_to_string(img) + \"\\n\\n\"\n",
    "\n",
    "# Display the extracted text\n",
    "extracted_text[:1000]  # Showing first 1000 characters to confirm the content\n"
   ]
  },
  {
   "cell_type": "code",
   "execution_count": 3,
   "metadata": {},
   "outputs": [
    {
     "name": "stdout",
     "output_type": "stream",
     "text": [
      "55\n"
     ]
    }
   ],
   "source": [
    "## Fibanocii series\n",
    "def fibanacci (n):\n",
    "    \n",
    "    if n==0:\n",
    "        return 0\n",
    "    if n==1:\n",
    "        return 1\n",
    "    else:\n",
    "        return fibanacci (n-1)+fibanacci(n-2)\n",
    "print(fibanacci(10))"
   ]
  },
  {
   "cell_type": "code",
   "execution_count": 10,
   "metadata": {},
   "outputs": [
    {
     "name": "stdout",
     "output_type": "stream",
     "text": [
      "865\n"
     ]
    }
   ],
   "source": [
    "#### Stock Buy and sell Using Multiple transaction\n",
    "## Approach -1\n",
    "price=[100,180,260,310,40,535,695]\n",
    "\n",
    "def maxProfit(price):\n",
    "    n=len(price)\n",
    "    lmax=price[0]\n",
    "    lmin=price[0]\n",
    "    res=0\n",
    "    \n",
    "    i=0\n",
    "    while i<n-1:\n",
    "    \n",
    "        while i<n-1 and price[i]>=price[i+1]:\n",
    "            i+=1\n",
    "        lmin=price[i]   \n",
    "        while i<n-1 and price[i]<=price[i+1] :\n",
    "            i+=1\n",
    "        lmax=price[i]\n",
    "        \n",
    "        res+=lmax-lmin\n",
    "            \n",
    "            \n",
    "    return res\n",
    "print(maxProfit(price))\n"
   ]
  },
  {
   "cell_type": "code",
   "execution_count": 11,
   "metadata": {},
   "outputs": [
    {
     "data": {
      "text/plain": [
       "865"
      ]
     },
     "execution_count": 11,
     "metadata": {},
     "output_type": "execute_result"
    }
   ],
   "source": [
    "## Stock Buy and sell Using Multiple transaction\n",
    "## Approach -2\n",
    "\n",
    "def profit(prices):\n",
    "    res=0\n",
    "    for i in range(1,len(prices)):\n",
    "        if prices[i]>=prices[i-1]:\n",
    "            res+= prices[i]-prices[i-1]\n",
    "    return res\n",
    "\n",
    "prices=[100,180,260,310,40,535,695]\n",
    "profit(prices)\n",
    "        "
   ]
  },
  {
   "cell_type": "code",
   "execution_count": 3,
   "metadata": {},
   "outputs": [
    {
     "name": "stdout",
     "output_type": "stream",
     "text": [
      "[1, 2, 3, 4]\n"
     ]
    }
   ],
   "source": [
    "a=[1,2,3,1,4]\n",
    "set(a)\n",
    "print(list(set(a)))"
   ]
  },
  {
   "cell_type": "code",
   "execution_count": 6,
   "metadata": {},
   "outputs": [
    {
     "name": "stdout",
     "output_type": "stream",
     "text": [
      "-123\n"
     ]
    }
   ],
   "source": [
    "s=\"  -123  \"\n",
    "print(s.strip())"
   ]
  },
  {
   "cell_type": "code",
   "execution_count": 3,
   "metadata": {},
   "outputs": [
    {
     "name": "stdout",
     "output_type": "stream",
     "text": [
      "[True, True, True, False, True]\n"
     ]
    }
   ],
   "source": [
    "candies=[2,3,5,1,3]\n",
    "extraCandies=3 \n",
    "res=[]    \n",
    "i=0 \n",
    "while i<len(candies):\n",
    "    res.append((candies[i]+extraCandies)>=max(candies))\n",
    "    i+=1\n",
    "print (res)\n"
   ]
  },
  {
   "cell_type": "code",
   "execution_count": 22,
   "metadata": {},
   "outputs": [
    {
     "name": "stdout",
     "output_type": "stream",
     "text": [
      "world hello\n"
     ]
    }
   ],
   "source": [
    "s = \"  hello world  \"\n",
    "print(\" \".join(reversed(s.split())))"
   ]
  },
  {
   "cell_type": "code",
   "execution_count": null,
   "metadata": {},
   "outputs": [
    {
     "name": "stdout",
     "output_type": "stream",
     "text": [
      "[1, 2, 3, 0, 0, 0]\n"
     ]
    }
   ],
   "source": [
    "n1=[1,2,3,0,0,0]\n",
    "n2=[2,5,6]\n",
    "n1=str(n1)\n",
    "print(n1.('0'))"
   ]
  }
 ],
 "metadata": {
  "kernelspec": {
   "display_name": "Python 3",
   "language": "python",
   "name": "python3"
  },
  "language_info": {
   "codemirror_mode": {
    "name": "ipython",
    "version": 3
   },
   "file_extension": ".py",
   "mimetype": "text/x-python",
   "name": "python",
   "nbconvert_exporter": "python",
   "pygments_lexer": "ipython3",
   "version": "3.12.0"
  }
 },
 "nbformat": 4,
 "nbformat_minor": 2
}
