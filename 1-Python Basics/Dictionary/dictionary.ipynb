{
 "cells": [
  {
   "cell_type": "markdown",
   "metadata": {},
   "source": [
    "## Dictionary \n",
    " 1.Creating dictionary\n",
    "\n",
    " 2.Accessing Dictionary Elements\n",
    "\n",
    " 3.Modifying Dictionary Elements\n",
    "\n",
    " 4.Dictionary Methods\n",
    "\n",
    " 5.Iterating over the dictionary\n",
    "\n",
    " 6.Nested Dictionary\n",
    "\n",
    " 7.Dictionary comprehension \n",
    "\n",
    " 8.Practical Exmples and Common Errors\n",
    " "
   ]
  },
  {
   "cell_type": "markdown",
   "metadata": {},
   "source": [
    "Introduction to dictionary \n",
    "\n",
    "Dictionary ate unordered collection of items. Thay store data in key-value pairs. Keys must be unique immutable (e.g, stings, numbers, or tuples) , which values can be of any types."
   ]
  },
  {
   "cell_type": "code",
   "execution_count": 1,
   "metadata": {},
   "outputs": [
    {
     "name": "stdout",
     "output_type": "stream",
     "text": [
      "<class 'dict'>\n"
     ]
    }
   ],
   "source": [
    "## Creating Dictionary\n",
    "mt_dict={}\n",
    "print(type(mt_dict))"
   ]
  },
  {
   "cell_type": "code",
   "execution_count": 2,
   "metadata": {},
   "outputs": [
    {
     "data": {
      "text/plain": [
       "{}"
      ]
     },
     "execution_count": 2,
     "metadata": {},
     "output_type": "execute_result"
    }
   ],
   "source": [
    "mt_dict= dict()\n",
    "mt_dict"
   ]
  },
  {
   "cell_type": "code",
   "execution_count": 6,
   "metadata": {},
   "outputs": [
    {
     "name": "stdout",
     "output_type": "stream",
     "text": [
      "{'name': 'danger', 'age': 32, 'grade': 'A+'}\n"
     ]
    }
   ],
   "source": [
    "#When a singel key is use instead of multiple keys\n",
    "\n",
    "students={\"name\":\"Lallith\",\"age\":32,\"grade\":\"A+\",\"name\":\"danger\"}\n",
    "print(students)\n"
   ]
  },
  {
   "cell_type": "code",
   "execution_count": 7,
   "metadata": {},
   "outputs": [
    {
     "name": "stdout",
     "output_type": "stream",
     "text": [
      "{'name': 'Lallith', 'age': 32, 'grade': 'A+'}\n"
     ]
    }
   ],
   "source": [
    "\n",
    "students={\"name\":\"Lallith\",\"age\":32,\"grade\":\"A+\"}\n",
    "print(students)\n"
   ]
  },
  {
   "cell_type": "code",
   "execution_count": 9,
   "metadata": {},
   "outputs": [
    {
     "name": "stdout",
     "output_type": "stream",
     "text": [
      "A+\n",
      "32\n",
      "Lallith\n"
     ]
    }
   ],
   "source": [
    "## Accessing the Dictionary elements\n",
    "print(students[\"grade\"])\n",
    "print(students[\"age\"])\n",
    "print(students[\"name\"])"
   ]
  },
  {
   "cell_type": "code",
   "execution_count": 14,
   "metadata": {},
   "outputs": [
    {
     "name": "stdout",
     "output_type": "stream",
     "text": [
      "A+\n",
      "32\n",
      "None\n",
      "Not available\n"
     ]
    }
   ],
   "source": [
    "## Accessing using the get() method\n",
    "\n",
    "print(students.get(\"grade\"))\n",
    "print(students.get(\"age\"))\n",
    "\n",
    "print(students.get(\"last_name\"))\n",
    "print(students.get(\"last_name\",\"Not available\"))"
   ]
  },
  {
   "cell_type": "code",
   "execution_count": 15,
   "metadata": {},
   "outputs": [
    {
     "name": "stdout",
     "output_type": "stream",
     "text": [
      "{'name': 'Lallith', 'age': 32, 'grade': 'A+'}\n"
     ]
    }
   ],
   "source": [
    "## Modifying Dictionary elements\n",
    "## Dictinary elements are mutable, so you can add, delete, or update elements\n",
    "\n",
    "print(students)"
   ]
  },
  {
   "cell_type": "code",
   "execution_count": 16,
   "metadata": {},
   "outputs": [
    {
     "name": "stdout",
     "output_type": "stream",
     "text": [
      "{'name': 'Lallith', 'age': 33, 'grade': 'A+'}\n",
      "{'name': 'Lallith', 'age': 33, 'grade': 'A+', 'Address': 'CBE'}\n"
     ]
    }
   ],
   "source": [
    "## adding and updating eleememts\n",
    "students[\"age\"]=33\n",
    "print(students)\n",
    "students[\"Address\"]=\"CBE\"\n",
    "print(students)\n",
    "\n"
   ]
  },
  {
   "cell_type": "code",
   "execution_count": 31,
   "metadata": {},
   "outputs": [
    {
     "name": "stdout",
     "output_type": "stream",
     "text": [
      "{'age': 33, 'Address': 'CBE'}\n"
     ]
    }
   ],
   "source": [
    "# deleting elements in dictionary \n",
    "del students[\"name\"]\n",
    "print(students)"
   ]
  },
  {
   "cell_type": "code",
   "execution_count": 35,
   "metadata": {},
   "outputs": [
    {
     "name": "stdout",
     "output_type": "stream",
     "text": [
      "dict_keys(['age', 'Address'])\n",
      "dict_values([33, 'CBE'])\n",
      "dict_items([('age', 33), ('Address', 'CBE')])\n"
     ]
    }
   ],
   "source": [
    "## DIctionary methods\n",
    "\n",
    "keys=students.keys()\n",
    "print(keys)\n",
    "values=students.values()\n",
    "print(values)\n",
    "items=students.items()\n",
    "print(items)"
   ]
  },
  {
   "cell_type": "code",
   "execution_count": 38,
   "metadata": {},
   "outputs": [
    {
     "name": "stdout",
     "output_type": "stream",
     "text": [
      "{'age': 33, 'Address': 'CBE'}\n",
      "{'age': 33, 'Address': 'CBE'}\n"
     ]
    }
   ],
   "source": [
    "## Shallow copying\n",
    "\n",
    "students_copy=students.copy()\n",
    "print(students)\n",
    "print(students_copy)"
   ]
  },
  {
   "cell_type": "code",
   "execution_count": 39,
   "metadata": {},
   "outputs": [
    {
     "name": "stdout",
     "output_type": "stream",
     "text": [
      "{'age': 33, 'Address': 'CBE', 'name': 'cristiano'}\n",
      "{'age': 33, 'Address': 'CBE'}\n"
     ]
    }
   ],
   "source": [
    "students['name']=\"cristiano\"\n",
    "print(students)\n",
    "print(students_copy)"
   ]
  },
  {
   "cell_type": "code",
   "execution_count": 42,
   "metadata": {},
   "outputs": [
    {
     "name": "stdout",
     "output_type": "stream",
     "text": [
      "{'age': 33, 'Address': 'CBE', 'name': 'cristiano'}\n",
      "{'age': 33, 'Address': 'CBE', 'name': 'cristiano'}\n"
     ]
    }
   ],
   "source": [
    "std_copy1= students.copy()\n",
    "print(std_copy1)\n",
    "print(students)"
   ]
  },
  {
   "cell_type": "code",
   "execution_count": 43,
   "metadata": {},
   "outputs": [
    {
     "name": "stdout",
     "output_type": "stream",
     "text": [
      "age\n",
      "Address\n",
      "name\n"
     ]
    }
   ],
   "source": [
    "## Iterating over dictionary elements\n",
    "## You can use loops to iterate dictionaries, keys , values , and items\n",
    "\n",
    "## Iterating over keys\n",
    "for keys in students.keys():\n",
    "    print(keys)"
   ]
  },
  {
   "cell_type": "code",
   "execution_count": 44,
   "metadata": {},
   "outputs": [
    {
     "name": "stdout",
     "output_type": "stream",
     "text": [
      "33\n",
      "CBE\n",
      "cristiano\n"
     ]
    }
   ],
   "source": [
    "## Iterating over values\n",
    "for values in students.values():\n",
    "    print(values)"
   ]
  },
  {
   "cell_type": "code",
   "execution_count": 51,
   "metadata": {},
   "outputs": [
    {
     "name": "stdout",
     "output_type": "stream",
     "text": [
      "('age', 33)\n",
      "('Address', 'CBE')\n",
      "('name', 'cristiano')\n",
      "key:age,value :33\n",
      "key:Address,value :CBE\n",
      "key:name,value :cristiano\n"
     ]
    }
   ],
   "source": [
    "## Iterating over items\n",
    "for items in students.items():\n",
    "    print(items)\n",
    "    \n",
    "for key,value in students.items():\n",
    "    print(f\"key:{key},value :{value}\")\n",
    "   "
   ]
  },
  {
   "cell_type": "code",
   "execution_count": 53,
   "metadata": {},
   "outputs": [
    {
     "name": "stdout",
     "output_type": "stream",
     "text": [
      "{'student1': {'name': 'Lallith', 'age': 20}, 'student2': {'name': 'Cristiano', 'age': 40}}\n"
     ]
    }
   ],
   "source": [
    "## Nested Dictionary\n",
    "std={\n",
    "    \"student1\" :{\"name\":\"Lallith\",\"age\":20},\n",
    "    \"student2\"  : {\"name\":\"Cristiano\", \"age\":40}\n",
    "}\n",
    "print(std)"
   ]
  },
  {
   "cell_type": "code",
   "execution_count": 57,
   "metadata": {},
   "outputs": [
    {
     "name": "stdout",
     "output_type": "stream",
     "text": [
      "Lallith\n",
      "Cristiano\n",
      "40\n"
     ]
    }
   ],
   "source": [
    "## Accessing the nested dictionary\n",
    "\n",
    "print(std[\"student1\"][\"name\"])\n",
    "print(std[\"student2\"][\"name\"])\n",
    "print(std[\"student2\"][\"age\"])"
   ]
  },
  {
   "cell_type": "code",
   "execution_count": 59,
   "metadata": {},
   "outputs": [
    {
     "name": "stdout",
     "output_type": "stream",
     "text": [
      "student1:{'name': 'Lallith', 'age': 20}\n",
      "name:Lallith\n",
      "age:20\n",
      "student2:{'name': 'Cristiano', 'age': 40}\n",
      "name:Cristiano\n",
      "age:40\n"
     ]
    }
   ],
   "source": [
    "## Iterating over nested dictionary\n",
    "\n",
    "for std_id,std_info in std.items():\n",
    "    print(f\"{std_id}:{std_info}\")\n",
    "    for key,value in std_info.items():\n",
    "        print(f\"{key}:{value}\")"
   ]
  },
  {
   "cell_type": "code",
   "execution_count": 63,
   "metadata": {},
   "outputs": [
    {
     "name": "stdout",
     "output_type": "stream",
     "text": [
      "{0: 0, 1: 1, 2: 4, 3: 9, 4: 16}\n"
     ]
    }
   ],
   "source": [
    "## Dictionary Comprehension\n",
    "\n",
    "square={i:i**2 for i in range(5)}\n",
    "print(square)"
   ]
  },
  {
   "cell_type": "code",
   "execution_count": 1,
   "metadata": {},
   "outputs": [
    {
     "name": "stdout",
     "output_type": "stream",
     "text": [
      "{0: 0, 2: 4, 4: 16, 6: 36, 8: 64}\n",
      "5\n"
     ]
    }
   ],
   "source": [
    "## Conditional Dictionary comprehensions\n",
    "\n",
    "evens={x:x**2 for x in range (10) if x%2==0 }\n",
    "print(evens)\n",
    "print(len(evens))"
   ]
  },
  {
   "cell_type": "code",
   "execution_count": 14,
   "metadata": {},
   "outputs": [
    {
     "name": "stdout",
     "output_type": "stream",
     "text": [
      "{1: 1, 2: 2, 7: 4, 6: 4}\n",
      "[6, 7]\n"
     ]
    }
   ],
   "source": [
    "## Practical Examples\n",
    "\n",
    "## Use a dictionary to count the frequency of the elements in the lists\n",
    "\n",
    "nums=[1,2,2,7,7,7,7,6,6,6,6]\n",
    "frequency={}\n",
    "for num in nums:\n",
    "    if num in frequency:\n",
    "        frequency[num]+=1\n",
    "    else:\n",
    "        frequency[num]=1\n",
    "print(frequency)\n",
    "n=len(nums)\n",
    "arr=[key for key,value in frequency.items() if value>n/3 ]\n",
    "arr.sort()\n",
    "\n",
    "print(arr)"
   ]
  },
  {
   "cell_type": "code",
   "execution_count": 80,
   "metadata": {},
   "outputs": [
    {
     "name": "stdout",
     "output_type": "stream",
     "text": [
      "{'a': 1, 'b': 2, 'c': 3, 'd': 4, 'e': 3, 'f': 4}\n"
     ]
    }
   ],
   "source": [
    "## Merging two dictionary into one  (done by using double asterisk (**))\n",
    "\n",
    "dict1={\"a\":1,\"b\":2}\n",
    "dict2={\"c\":3, \"d\":4}\n",
    "dict3={\"e\":3, \"f\":4}\n",
    "merg_dict={**dict1, **dict2, **dict3}\n",
    "print(merg_dict)"
   ]
  },
  {
   "cell_type": "code",
   "execution_count": 12,
   "metadata": {},
   "outputs": [
    {
     "ename": "TypeError",
     "evalue": "myAtoi() missing 1 required positional argument: 's'",
     "output_type": "error",
     "traceback": [
      "\u001b[1;31m---------------------------------------------------------------------------\u001b[0m",
      "\u001b[1;31mTypeError\u001b[0m                                 Traceback (most recent call last)",
      "Cell \u001b[1;32mIn[12], line 15\u001b[0m\n\u001b[0;32m     13\u001b[0m            i\u001b[38;5;241m+\u001b[39m\u001b[38;5;241m=\u001b[39m\u001b[38;5;241m1\u001b[39m\n\u001b[0;32m     14\u001b[0m         \u001b[38;5;28mprint\u001b[39m(i)\n\u001b[1;32m---> 15\u001b[0m \u001b[43mmyAtoi\u001b[49m\u001b[43m(\u001b[49m\u001b[43ms\u001b[49m\u001b[43m)\u001b[49m\n",
      "\u001b[1;31mTypeError\u001b[0m: myAtoi() missing 1 required positional argument: 's'"
     ]
    }
   ],
   "source": [
    "s=\"  -042\"\n",
    "def myAtoi(self, s: str) -> int:\n",
    "        s=s.strip()\n",
    "        if not s:\n",
    "            return 0\n",
    "        print(s)\n",
    "\n",
    "        res=[]\n",
    "        i=0\n",
    "        sign = 1\n",
    "        if s[0]=='-':\n",
    "           sign= -1\n",
    "           i+=1\n",
    "        print(i)\n",
    "myAtoi(s)"
   ]
  },
  {
   "cell_type": "code",
   "execution_count": 9,
   "metadata": {},
   "outputs": [
    {
     "name": "stdout",
     "output_type": "stream",
     "text": [
      "45\n"
     ]
    }
   ],
   "source": [
    "arr=[1,2,2,5,5,5,5,6,6,6,6]\n",
    "n=len(arr)\n",
    "count=0\n",
    "for i in range(0,n-1):\n",
    "    for j in range (i+1,n-1):\n",
    "        if i==j:\n",
    "            count+=1\n",
    "        \n",
    "if \n"
   ]
  },
  {
   "cell_type": "code",
   "execution_count": 11,
   "metadata": {},
   "outputs": [
    {
     "name": "stdout",
     "output_type": "stream",
     "text": [
      "[0, 0, 1, 2, 2, 3, 4, 4, 0]\n"
     ]
    }
   ],
   "source": [
    "n=len(arr)\n",
    "        \n",
    "for i in range(0,n-1):\n",
    "            for j in range (i+1,n-1):\n",
    "                while arr[i]>arr[j]:\n",
    "                    arr[i],arr[j]=arr[j],arr[i]"
   ]
  },
  {
   "cell_type": "code",
   "execution_count": null,
   "metadata": {},
   "outputs": [
    {
     "ename": "TypeError",
     "evalue": "can only concatenate list (not \"int\") to list",
     "output_type": "error",
     "traceback": [
      "\u001b[1;31m---------------------------------------------------------------------------\u001b[0m",
      "\u001b[1;31mTypeError\u001b[0m                                 Traceback (most recent call last)",
      "Cell \u001b[1;32mIn[13], line 3\u001b[0m\n\u001b[0;32m      1\u001b[0m arr\u001b[38;5;241m=\u001b[39m[]\n\u001b[0;32m      2\u001b[0m i\u001b[38;5;241m=\u001b[39m\u001b[38;5;241m1\u001b[39m\n\u001b[1;32m----> 3\u001b[0m \u001b[38;5;28mprint\u001b[39m(\u001b[43marr\u001b[49m\u001b[38;5;241;43m+\u001b[39;49m\u001b[38;5;241;43m1\u001b[39;49m\u001b[38;5;241m+\u001b[39mi)\n",
      "\u001b[1;31mTypeError\u001b[0m: can only concatenate list (not \"int\") to list"
     ]
    }
   ],
   "source": [
    "arr=[1,2,3,4,7]"
   ]
  },
  {
   "cell_type": "code",
   "execution_count": 15,
   "metadata": {},
   "outputs": [
    {
     "name": "stdout",
     "output_type": "stream",
     "text": [
      "['0', '0', '3', '3']\n"
     ]
    }
   ],
   "source": [
    "s=\"0033\"\n",
    "sl=list(s)\n",
    "print(sl)"
   ]
  },
  {
   "cell_type": "code",
   "execution_count": 10,
   "metadata": {},
   "outputs": [
    {
     "data": {
      "text/plain": [
       "[]"
      ]
     },
     "execution_count": 10,
     "metadata": {},
     "output_type": "execute_result"
    }
   ],
   "source": [
    "def majorityElement(nums): \n",
    "\n",
    "        freq={}\n",
    "        n=len(nums)\n",
    "\n",
    "        for i in nums:\n",
    "            if i in freq:\n",
    "                freq[i]+=1\n",
    "            else:\n",
    "                freq[i]=1\n",
    "        nums=[key for key,value in freq.items() if value >n/3]\n",
    "        return nums\n",
    "nums=[0,1,1,2,2,3] \n",
    "majorityElement(nums)    "
   ]
  }
 ],
 "metadata": {
  "kernelspec": {
   "display_name": "Python 3",
   "language": "python",
   "name": "python3"
  },
  "language_info": {
   "codemirror_mode": {
    "name": "ipython",
    "version": 3
   },
   "file_extension": ".py",
   "mimetype": "text/x-python",
   "name": "python",
   "nbconvert_exporter": "python",
   "pygments_lexer": "ipython3",
   "version": "3.12.0"
  }
 },
 "nbformat": 4,
 "nbformat_minor": 2
}
