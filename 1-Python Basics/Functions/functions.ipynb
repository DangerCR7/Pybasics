{
 "cells": [
  {
   "cell_type": "markdown",
   "metadata": {},
   "source": [
    "## FUNCTIONS\n",
    "  1.Introduction to functions\n",
    "  \n",
    "  2.Defining functions\n",
    "\n",
    "  3.Calling functions\n",
    "\n",
    "  4.Funtion Paremeters\n",
    "\n",
    "  5.Default Parameters\n",
    "\n",
    "  6.Variable-Length Arguments\n",
    "\n",
    "  7.Return Statement"
   ]
  },
  {
   "cell_type": "markdown",
   "metadata": {
    "vscode": {
     "languageId": "plaintext"
    }
   },
   "source": [
    "Introduction to functions\n",
    "\n",
    "Definiton:\n",
    "\n",
    "A function is a block of code that perfors a specific task. Fumction helps in organizing code , reusing and improving readability"
   ]
  },
  {
   "cell_type": "code",
   "execution_count": 1,
   "metadata": {},
   "outputs": [],
   "source": [
    "## Syntax \n",
    "def function_name(parameters):\n",
    "    \"\"\"Docsrting\"\"\"\n",
    "    #Function body\n",
    "    return #expression\n",
    "    \n",
    "    "
   ]
  },
  {
   "cell_type": "code",
   "execution_count": 2,
   "metadata": {},
   "outputs": [
    {
     "name": "stdout",
     "output_type": "stream",
     "text": [
      "The number is even \n"
     ]
    }
   ],
   "source": [
    "## Why functions\n",
    "num=24\n",
    "if num%2==0:\n",
    "    print(\"The number is even\")\n",
    "else:\n",
    "    print(\"the number is odd\")"
   ]
  },
  {
   "cell_type": "code",
   "execution_count": 3,
   "metadata": {},
   "outputs": [],
   "source": [
    "## Reusing the above code using a function\n",
    "def even_or_odd(num):\n",
    "    \"\"\"Hey this function finds even or odd\"\"\"\n",
    "    if num%2==0:\n",
    "        print(\"The number is even\")\n",
    "    else:\n",
    "        print(\"the number is odd\")\n",
    "        "
   ]
  },
  {
   "cell_type": "code",
   "execution_count": 4,
   "metadata": {},
   "outputs": [
    {
     "name": "stdout",
     "output_type": "stream",
     "text": [
      "The number is even\n"
     ]
    }
   ],
   "source": [
    "## Calling the function created above\n",
    "even_or_odd(24)"
   ]
  },
  {
   "cell_type": "code",
   "execution_count": 5,
   "metadata": {},
   "outputs": [],
   "source": [
    "## Functions with multi paremeters\n",
    "\n",
    "def add(a,b):\n",
    "    \"\"\"Adding Two numbers\"\"\"\n",
    "    c=a+b\n",
    "    return c"
   ]
  },
  {
   "cell_type": "code",
   "execution_count": 6,
   "metadata": {},
   "outputs": [
    {
     "data": {
      "text/plain": [
       "3"
      ]
     },
     "execution_count": 6,
     "metadata": {},
     "output_type": "execute_result"
    }
   ],
   "source": [
    "add(1,2)"
   ]
  },
  {
   "cell_type": "code",
   "execution_count": 7,
   "metadata": {},
   "outputs": [],
   "source": [
    "## The above code can written more easily as \n",
    "def adding(a,b):\n",
    "    return a+b"
   ]
  },
  {
   "cell_type": "code",
   "execution_count": 8,
   "metadata": {},
   "outputs": [
    {
     "data": {
      "text/plain": [
       "7"
      ]
     },
     "execution_count": 8,
     "metadata": {},
     "output_type": "execute_result"
    }
   ],
   "source": [
    "adding(2,5)"
   ]
  },
  {
   "cell_type": "code",
   "execution_count": 18,
   "metadata": {},
   "outputs": [
    {
     "name": "stdout",
     "output_type": "stream",
     "text": [
      "Hello Dangercr7 Welcome!! To the new begining\n",
      "Hello Lallith Welcome!! To the new begining\n",
      "Hello  Welcome!! To the new begining\n"
     ]
    },
    {
     "ename": "TypeError",
     "evalue": "greet() missing 1 required positional argument: 'name'",
     "output_type": "error",
     "traceback": [
      "\u001b[1;31m---------------------------------------------------------------------------\u001b[0m",
      "\u001b[1;31mTypeError\u001b[0m                                 Traceback (most recent call last)",
      "Cell \u001b[1;32mIn[18], line 10\u001b[0m\n\u001b[0;32m      8\u001b[0m greet(\u001b[38;5;124m\"\u001b[39m\u001b[38;5;124mLallith\u001b[39m\u001b[38;5;124m\"\u001b[39m)\n\u001b[0;32m      9\u001b[0m greet(\u001b[38;5;124m\"\u001b[39m\u001b[38;5;124m\"\u001b[39m)\n\u001b[1;32m---> 10\u001b[0m \u001b[43mgreet\u001b[49m\u001b[43m(\u001b[49m\u001b[43m)\u001b[49m          \u001b[38;5;66;03m## Parameters while calling a function should not be empty\u001b[39;00m\n",
      "\u001b[1;31mTypeError\u001b[0m: greet() missing 1 required positional argument: 'name'"
     ]
    }
   ],
   "source": [
    "## Default Parameters\n",
    "\n",
    "def greet(name):\n",
    "    print(f\"Hello {name} Welcome!! To the new begining\")\n",
    "    \n",
    "    \n",
    "greet(\"Dangercr7\")\n",
    "greet(\"Lallith\")\n",
    "greet(\"\")\n",
    "greet()          ## Parameters while calling a function should not be empty"
   ]
  },
  {
   "cell_type": "code",
   "execution_count": 21,
   "metadata": {},
   "outputs": [
    {
     "name": "stdout",
     "output_type": "stream",
     "text": [
      "Hello Guest Welcome!! To the Paradise\n",
      "Hello Cristiano Welcome!! To the Paradise\n"
     ]
    }
   ],
   "source": [
    "def greet(name=\"Guest\"):  ## Defining the default value for the parameter\n",
    "    print(f\"Hello {name} Welcome!! To the Paradise\")\n",
    "    \n",
    "greet()\n",
    "greet(\"Cristiano\")  ## Once you give your own value to parameter it will repalace the default value"
   ]
  },
  {
   "cell_type": "code",
   "execution_count": 22,
   "metadata": {},
   "outputs": [],
   "source": [
    "## Varaiable length arguments\n",
    "## Positional and Keywords arguments\n",
    "\n",
    "def print_numbers(*agrs):  ## Instead of using the  print(num1,num2,num3,num4,num5 ...etc.,  *agrs i used\n",
    "    for nums in agrs:\n",
    "        print(nums)"
   ]
  },
  {
   "cell_type": "code",
   "execution_count": 23,
   "metadata": {},
   "outputs": [
    {
     "name": "stdout",
     "output_type": "stream",
     "text": [
      "1\n",
      "2\n",
      "3\n",
      "4\n",
      "5\n",
      "6\n",
      "6876\n"
     ]
    }
   ],
   "source": [
    "print_numbers(1,2,3,4,5,6,6876)    ## Here all values belongs to the argument args  i.e., * args"
   ]
  },
  {
   "cell_type": "code",
   "execution_count": null,
   "metadata": {},
   "outputs": [],
   "source": [
    "## Positional Arguments (*name_of_arguments)\n",
    "\n",
    "def print_numbers(*agrs):  \n",
    "    for nums in agrs:\n",
    "        print(nums)"
   ]
  },
  {
   "cell_type": "code",
   "execution_count": 24,
   "metadata": {},
   "outputs": [
    {
     "name": "stdout",
     "output_type": "stream",
     "text": [
      "1\n",
      "2\n",
      "3\n",
      "4\n",
      "5\n",
      "6\n",
      "Lallith\n"
     ]
    }
   ],
   "source": [
    "print_numbers(1,2,3,4,5,6,\"Lallith\")"
   ]
  },
  {
   "cell_type": "code",
   "execution_count": 25,
   "metadata": {},
   "outputs": [],
   "source": [
    "## Keywords Arguments  (**name_of_argumensts)\n",
    "## In the Keyword arguments all the parameters will be in the key-value pairs like dictionaries\n",
    "\n",
    "def print_details(**kwargs):\n",
    "    for key,value in kwargs.items():\n",
    "        print(f\"{key}:{value}\")\n",
    "        \n",
    "    "
   ]
  },
  {
   "cell_type": "code",
   "execution_count": 27,
   "metadata": {},
   "outputs": [
    {
     "name": "stdout",
     "output_type": "stream",
     "text": [
      "name:Lallith\n",
      "age:32\n",
      "country:India\n"
     ]
    }
   ],
   "source": [
    "print_details(name=\"Lallith\",age=32,country=\"India\")"
   ]
  },
  {
   "cell_type": "code",
   "execution_count": 30,
   "metadata": {},
   "outputs": [],
   "source": [
    "## Combiniing both Positional and keywords arguments \n",
    "\n",
    "def print_detail(*args,**kwargs):\n",
    "    for num in args:\n",
    "        print(f\"Positional Arguments:{num}\")\n",
    "        \n",
    "    for key,value in kwargs.items():\n",
    "        print(f\"{key}:{value}\")\n",
    "        "
   ]
  },
  {
   "cell_type": "code",
   "execution_count": 33,
   "metadata": {},
   "outputs": [
    {
     "ename": "SyntaxError",
     "evalue": "positional argument follows keyword argument (2880857942.py, line 1)",
     "output_type": "error",
     "traceback": [
      "\u001b[1;36m  Cell \u001b[1;32mIn[33], line 1\u001b[1;36m\u001b[0m\n\u001b[1;33m    print_detail(1,2,3,4,name=\"Lallit\",4,5,age=20)\u001b[0m\n\u001b[1;37m                                                 ^\u001b[0m\n\u001b[1;31mSyntaxError\u001b[0m\u001b[1;31m:\u001b[0m positional argument follows keyword argument\n"
     ]
    }
   ],
   "source": [
    "print_detail(1,2,3,4,name=\"Lallit\",4,5,age=20)"
   ]
  },
  {
   "cell_type": "code",
   "execution_count": 34,
   "metadata": {},
   "outputs": [
    {
     "name": "stdout",
     "output_type": "stream",
     "text": [
      "Positional Arguments:1\n",
      "Positional Arguments:2\n",
      "Positional Arguments:3\n",
      "Positional Arguments:4\n",
      "Positional Arguments:5\n",
      "name:Lallith\n",
      "age:32\n",
      "country:India\n"
     ]
    }
   ],
   "source": [
    "print_detail(1,2,3,4,5,name=\"Lallith\",age=32,country=\"India\")"
   ]
  },
  {
   "cell_type": "code",
   "execution_count": 37,
   "metadata": {},
   "outputs": [
    {
     "data": {
      "text/plain": [
       "(80, 2, 23)"
      ]
     },
     "execution_count": 37,
     "metadata": {},
     "output_type": "execute_result"
    }
   ],
   "source": [
    "## Return multiple parameters in statements\n",
    "\n",
    "def multiply(a,b):\n",
    "    return a*b,a,23        ## It can  return multiple values also\n",
    "\n",
    "multiply(2,40)"
   ]
  },
  {
   "cell_type": "markdown",
   "metadata": {},
   "source": [
    "## Function Examples\n",
    "\n"
   ]
  },
  {
   "cell_type": "markdown",
   "metadata": {},
   "source": [
    "## Example 1:Temperature Conversion"
   ]
  },
  {
   "cell_type": "code",
   "execution_count": 70,
   "metadata": {},
   "outputs": [
    {
     "name": "stdout",
     "output_type": "stream",
     "text": [
      "-3.888888888888889\n",
      "170.6\n"
     ]
    }
   ],
   "source": [
    "def conv_temp(temp,unit):\n",
    "    \"\"\"This function converts tempertaure between clesius and Fahrenheit\"\"\"\n",
    "    if unit ==\"C\":\n",
    "        return temp*9/5 +32    ### Celsius to Fahrenheit\n",
    "    elif unit == \"F\":\n",
    "        return (temp-32)* 5/9 ## Fahrenheit to Celsius\n",
    "    else:\n",
    "        return None\n",
    "    \n",
    "print(conv_temp(25,\"F\"))\n",
    "print(conv_temp(77,\"C\"))"
   ]
  },
  {
   "cell_type": "markdown",
   "metadata": {},
   "source": [
    "## Example 2: Password Strength Checker"
   ]
  },
  {
   "cell_type": "code",
   "execution_count": 95,
   "metadata": {},
   "outputs": [],
   "source": [
    "def is_strong_password(username,password):\n",
    "    \"\"\"Checks if the pasasword is strong are not\"\"\"\n",
    "    if username==password:\n",
    "        return \"Give some password other than your username\"\n",
    "    if len(password)<8:\n",
    "        return \"Re-Enter your password.Password should be more than or equal to 8 characters\"\n",
    "    if not any(char.isdigit() for char in password):\n",
    "        return \"Weak Password ,use Digits like 1234567890 in your password\"\n",
    "    if not any(char.islower() for char in password):\n",
    "        return \"Weak Password ,All the letters are in Lower case.Please use mixed letters\"\n",
    "    if not any (char.isupper() for char in password):\n",
    "        return \"Weak Password ,All the letters are in Upper case.Please use mixed letter\"\n",
    "    if not any(char in \"!@#$%^&*()_+\" for char in password):\n",
    "        return \"Conditon not met , use special characters like !@$#%^&*()_+ in your password\"\n",
    "    return \"Strong. Password Created Successfully\""
   ]
  },
  {
   "cell_type": "code",
   "execution_count": 98,
   "metadata": {},
   "outputs": [
    {
     "data": {
      "text/plain": [
       "'Strong. Password Created Successfully'"
      ]
     },
     "execution_count": 98,
     "metadata": {},
     "output_type": "execute_result"
    }
   ],
   "source": [
    "is_strong_password(\"Lallith\",\"Lallithcr@7\")"
   ]
  },
  {
   "cell_type": "markdown",
   "metadata": {},
   "source": [
    "## Example 3: Calculate the total cost of items in a Shopping Cart"
   ]
  },
  {
   "cell_type": "code",
   "execution_count": 104,
   "metadata": {},
   "outputs": [
    {
     "data": {
      "text/plain": [
       "208.6"
      ]
     },
     "execution_count": 104,
     "metadata": {},
     "output_type": "execute_result"
    }
   ],
   "source": [
    "def calculate_total_cart(cart):\n",
    "    total_cost=0\n",
    "    for item in cart:\n",
    "        total_cost+=item['price']*item[\"quantity\"]\n",
    "    return total_cost\n",
    "\n",
    "##Example Cart data\n",
    "cart=[\n",
    "      {\"name\":\"apple\",\"price\":10.50,\"quantity\":10},\n",
    "      {\"name\":\"banana\",\"price\":5.6,\"quantity\":6},\n",
    "      {\"name\":\"toothpaste\",\"price\":70,\"quantity\":1}\n",
    "\n",
    "]\n",
    "\n",
    "## Calling the function\n",
    "calculate_total_cart(cart)"
   ]
  },
  {
   "cell_type": "markdown",
   "metadata": {},
   "source": [
    "## Example 4:Checking if the String is Palindrome\n"
   ]
  },
  {
   "cell_type": "code",
   "execution_count": 111,
   "metadata": {},
   "outputs": [
    {
     "name": "stdout",
     "output_type": "stream",
     "text": [
      "This is a Palindrome\n",
      "It is not a Palindrome\n",
      "This is a Palindrome\n"
     ]
    }
   ],
   "source": [
    "def is_palindrome(string):\n",
    "    s=string.lower().replace(\" \",\"\")\n",
    "    if s==s[::-1]:\n",
    "        return \"This is a Palindrome\"\n",
    "    else:\n",
    "        return \"It is not a Palindrome\"\n",
    "print(is_palindrome(\"A man a plan a canal Panama\"))\n",
    "print(is_palindrome(\"I am a Robot\"))\n",
    "print(is_palindrome(\"Noon Noon \"))"
   ]
  },
  {
   "cell_type": "markdown",
   "metadata": {},
   "source": [
    "## Example 5: Calculate the factorial of a number using Recursion"
   ]
  },
  {
   "cell_type": "code",
   "execution_count": 113,
   "metadata": {},
   "outputs": [
    {
     "name": "stdout",
     "output_type": "stream",
     "text": [
      "120\n"
     ]
    }
   ],
   "source": [
    "def factorial(num):\n",
    "    if num==0:\n",
    "        return 1\n",
    "    else:\n",
    "        return num* factorial(num-1)\n",
    "print(factorial(5))"
   ]
  },
  {
   "cell_type": "markdown",
   "metadata": {},
   "source": [
    "## Example 6: A Function to read a file and count the frequency of each word"
   ]
  },
  {
   "cell_type": "code",
   "execution_count": 121,
   "metadata": {},
   "outputs": [
    {
     "name": "stdout",
     "output_type": "stream",
     "text": [
      "{'hello': 4, 'world': 2, 'how': 1, 'are': 1, 'you': 1, 'my': 2, 'name': 1, 'is': 1}\n"
     ]
    }
   ],
   "source": [
    "def count_word_freqency(file_path):\n",
    "    word_count={}\n",
    "    with open(file_path,\"r\") as file:\n",
    "        for line in file:\n",
    "            words=line.split()\n",
    "            for word in words:\n",
    "                word=word.lower().strip('!@#$%^&*_+')\n",
    "                word_count[word]=word_count.get(word,0)+1\n",
    "    return word_count\n",
    "\n",
    "file_path=\"sample.txt\" \n",
    "word_frequency=count_word_freqency(file_path)\n",
    "print(word_frequency)  "
   ]
  },
  {
   "cell_type": "markdown",
   "metadata": {},
   "source": [
    "## Example 7: Validating the Email Address"
   ]
  },
  {
   "cell_type": "code",
   "execution_count": 132,
   "metadata": {},
   "outputs": [
    {
     "name": "stdout",
     "output_type": "stream",
     "text": [
      "True\n",
      "False\n"
     ]
    }
   ],
   "source": [
    "import re\n",
    "def validate_email(email):\n",
    "    pattern = r'^[a-zA-Z0-9]+@[a-zA-Z0-9]+\\.[a-zA-Z0-9]+$'\n",
    "    return re.match(pattern,email) is not None\n",
    "\n",
    "## Calling the Functions\n",
    "print(validate_email(\"lallithkavi@gmail.com\"))\n",
    "print(validate_email(\"lalith#gmail.\"))"
   ]
  },
  {
   "cell_type": "code",
   "execution_count": null,
   "metadata": {},
   "outputs": [],
   "source": []
  }
 ],
 "metadata": {
  "kernelspec": {
   "display_name": "Python 3",
   "language": "python",
   "name": "python3"
  },
  "language_info": {
   "codemirror_mode": {
    "name": "ipython",
    "version": 3
   },
   "file_extension": ".py",
   "mimetype": "text/x-python",
   "name": "python",
   "nbconvert_exporter": "python",
   "pygments_lexer": "ipython3",
   "version": "3.12.0"
  }
 },
 "nbformat": 4,
 "nbformat_minor": 2
}
