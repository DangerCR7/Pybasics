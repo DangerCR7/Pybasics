{
 "cells": [
  {
   "cell_type": "markdown",
   "metadata": {},
   "source": [
    "###  Recursive Function \n",
    "\n",
    "Recursive function is the function that calls itself in the same function . "
   ]
  },
  {
   "cell_type": "code",
   "execution_count": 3,
   "metadata": {},
   "outputs": [
    {
     "data": {
      "text/plain": [
       "6"
      ]
     },
     "execution_count": 3,
     "metadata": {},
     "output_type": "execute_result"
    }
   ],
   "source": [
    "## Examples\n",
    "\n",
    "## Factorial Calcualtion \n",
    "\n",
    "def factorial(x):\n",
    "    if x==1:\n",
    "        return 1\n",
    "    \n",
    "    else:\n",
    "        return x * factorial (x-1)\n",
    "factorial(3)"
   ]
  },
  {
   "cell_type": "code",
   "execution_count": 10,
   "metadata": {},
   "outputs": [
    {
     "data": {
      "text/plain": [
       "55"
      ]
     },
     "execution_count": 10,
     "metadata": {},
     "output_type": "execute_result"
    }
   ],
   "source": [
    "## Fibanocci \n",
    "def fibanocci(x):\n",
    "    if x==0:\n",
    "        return 0\n",
    "    if x==1:\n",
    "        return 1\n",
    "    else:\n",
    "        return fibanocci(x-1)+fibanocci(x-2)\n",
    "    \n",
    "fibanocci(10)"
   ]
  },
  {
   "cell_type": "code",
   "execution_count": 11,
   "metadata": {},
   "outputs": [
    {
     "name": "stdout",
     "output_type": "stream",
     "text": [
      "Take these 3vadai\n"
     ]
    }
   ],
   "source": [
    "## Example\n",
    "\n",
    "def cook(balance_mavu):\n",
    "    if balance_mavu==1:\n",
    "        return 1\n",
    "    else:\n",
    "        total_vadai=1+cook(balance_mavu-1)\n",
    "        return total_vadai\n",
    "total_vadai=cook(3)\n",
    "print(f\"Take these {total_vadai} vadai\")"
   ]
  },
  {
   "cell_type": "code",
   "execution_count": 12,
   "metadata": {},
   "outputs": [
    {
     "name": "stdout",
     "output_type": "stream",
     "text": [
      "15\n"
     ]
    }
   ],
   "source": [
    "def addition (number):\n",
    "    if number==1:\n",
    "        return 1\n",
    "    else:\n",
    "        return number+ addition (number-1)\n",
    "print(addition (5))"
   ]
  }
 ],
 "metadata": {
  "kernelspec": {
   "display_name": "Python 3",
   "language": "python",
   "name": "python3"
  },
  "language_info": {
   "codemirror_mode": {
    "name": "ipython",
    "version": 3
   },
   "file_extension": ".py",
   "mimetype": "text/x-python",
   "name": "python",
   "nbconvert_exporter": "python",
   "pygments_lexer": "ipython3",
   "version": "3.12.0"
  }
 },
 "nbformat": 4,
 "nbformat_minor": 2
}
