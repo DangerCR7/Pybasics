{
 "cells": [
  {
   "cell_type": "markdown",
   "metadata": {},
   "source": [
    "## Real World list examples\n",
    "Lists are one of the most commonly used data structures in Python, thanks to their versatality and ease of use .\n",
    "Here are several practical examples that illustrate thier use in real-world scenerios\n"
   ]
  },
  {
   "cell_type": "markdown",
   "metadata": {},
   "source": [
    "## Example 1: Managa a to do list\n",
    "    Creating a To Do list to keep Track of tasks"
   ]
  },
  {
   "cell_type": "code",
   "execution_count": 12,
   "metadata": {},
   "outputs": [
    {
     "name": "stdout",
     "output_type": "stream",
     "text": [
      "Don't forget to pay the utility bills\n",
      "THE REMAINING TASKS TO DO\n",
      "-Buy the Groceries\n",
      "-pay bills\n",
      "-Schedule Meeting\n",
      "-Go for a Run\n"
     ]
    }
   ],
   "source": [
    "to_do_list=[\"Buy the Groceries\",\"pay bills\",\"Clean house\"]\n",
    "\n",
    "## Adding tasks\n",
    "\n",
    "to_do_list.append(\"Schedule Meeting\")\n",
    "to_do_list.append(\"Go for a Run\")\n",
    "\n",
    "## removing the completed tasks\n",
    "to_do_list.remove(\"Clean house\")\n",
    "\n",
    "## Checking if a task is in the list\n",
    "if \"pay bills\" in to_do_list:\n",
    "    print(\"Don't forget to pay the utility bills\")\n",
    "print(\"THE REMAINING TASKS TO DO\")\n",
    "for i in to_do_list:\n",
    "    print(f\"-{i}\")"
   ]
  },
  {
   "cell_type": "markdown",
   "metadata": {},
   "source": [
    "## Example 2: Orgainzing Student Grades"
   ]
  },
  {
   "cell_type": "code",
   "execution_count": 24,
   "metadata": {},
   "outputs": [
    {
     "name": "stdout",
     "output_type": "stream",
     "text": [
      "Average grade of the class is : 87.17\n",
      "HIGHEST GRADE:100\n",
      "LOWEST GRADE: 54\n"
     ]
    }
   ],
   "source": [
    "## Example 2: Orgainzing Student Grades\n",
    "\n",
    "grades=[88, 97, 85, 99, 54]\n",
    "\n",
    "# Adding a new grade\n",
    "grades.append(100)\n",
    "\n",
    "#Calcualting the average grades\n",
    "\n",
    "average_of_grades=sum(grades)/ len(grades)\n",
    "print(f\"Average grade of the class is : {average_of_grades:.2f}\")\n",
    "\n",
    "## Finding the highest and the lowest of the grades\n",
    "print(f\"HIGHEST GRADE:{max(grades)}\")\n",
    "print(\"LOWEST GRADE:\",min(grades))"
   ]
  },
  {
   "cell_type": "markdown",
   "metadata": {},
   "source": [
    "## Example 3: Managing an Inventory\n",
    "     Use a list to manage Inventory of items in the stoer\n",
    "     "
   ]
  },
  {
   "cell_type": "code",
   "execution_count": 39,
   "metadata": {},
   "outputs": [
    {
     "name": "stdout",
     "output_type": "stream",
     "text": [
      "pine is not available in the inventory.\n",
      "Available stocks\n",
      "-apples \n",
      "-bananas \n",
      "-strawberry \n",
      "-mango \n",
      "-guava \n",
      "-blueberry \n"
     ]
    }
   ],
   "source": [
    "# Managing an inventory\n",
    "\n",
    "inventory=[\"apples\",\"bananas\",\"strawberry\",\"mango\",\"pomogranate\"]\n",
    "\n",
    "## Adding new items to the inventory \n",
    "inventory.append(\"guava\")\n",
    "inventory.append(\"blueberry\")\n",
    "\n",
    "## Removing the items from the inventory\n",
    "\n",
    "inventory.remove(\"pomogranate\")\n",
    "\n",
    "\n",
    "##Checking for availability in the inventory\n",
    "item=input(\"Enter the stock you are looking for:\")\n",
    "\n",
    "if item in inventory:\n",
    "    print(f\"{item} is available in inventory.\")\n",
    "else:\n",
    "    print(f\"{item} is not available in the inventory.\")\n",
    "\n",
    "## Print all the stocks in the inventory\n",
    "print(\"Available stocks\")\n",
    "for i in inventory:\n",
    "    print(f\"-{i} \")"
   ]
  },
  {
   "cell_type": "markdown",
   "metadata": {},
   "source": [
    "## Example 4:Collcting User Feedbacks\n"
   ]
  },
  {
   "cell_type": "code",
   "execution_count": 41,
   "metadata": {},
   "outputs": [
    {
     "name": "stdout",
     "output_type": "stream",
     "text": [
      "Positive Feedback Count: 2\n",
      "Users Feedback:\n",
      "-  Great service\n",
      "-  Very excellent\n",
      "- Could be better\n",
      "- Very satisfied\n",
      "- v\n",
      "- e\n",
      "- r\n",
      "- y\n",
      "-  \n",
      "- g\n",
      "- r\n",
      "- e\n",
      "- a\n",
      "- t\n"
     ]
    }
   ],
   "source": [
    "## Collecting the feedback from the users\n",
    "feedbacks=[\" Great service\",\" Very excellent\", \"Could be better\",\"Very satisfied\"]\n",
    "\n",
    "## Adding the feedbacks\n",
    "ur_fb=input(\"Please give us your feedback in two words\")\n",
    "feedbacks.extend(ur_fb)\n",
    "\n",
    "# Counting specific feedbacks\n",
    "\n",
    "positive_fb=sum (1 for comment in feedbacks if \"great\" in comment.lower() or \"excellent\" in comment.lower())\n",
    "print(f\"Positive Feedback Count: {positive_fb}\")\n",
    "\n",
    "## Printing all the feedbacks\n",
    "print(\"Users Feedback:\")\n",
    "\n",
    "for comment in feedbacks:\n",
    "    print(f\"- {comment}\")\n"
   ]
  }
 ],
 "metadata": {
  "kernelspec": {
   "display_name": "Python 3",
   "language": "python",
   "name": "python3"
  },
  "language_info": {
   "codemirror_mode": {
    "name": "ipython",
    "version": 3
   },
   "file_extension": ".py",
   "mimetype": "text/x-python",
   "name": "python",
   "nbconvert_exporter": "python",
   "pygments_lexer": "ipython3",
   "version": "3.12.0"
  }
 },
 "nbformat": 4,
 "nbformat_minor": 2
}
