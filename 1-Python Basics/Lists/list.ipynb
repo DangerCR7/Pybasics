{
 "cells": [
  {
   "cell_type": "markdown",
   "metadata": {},
   "source": [
    "### List and List Comprehension"
   ]
  },
  {
   "cell_type": "code",
   "execution_count": 2,
   "metadata": {},
   "outputs": [
    {
     "data": {
      "text/plain": [
       "list"
      ]
     },
     "execution_count": 2,
     "metadata": {},
     "output_type": "execute_result"
    }
   ],
   "source": [
    "list=[]\n",
    "type(list)"
   ]
  },
  {
   "cell_type": "code",
   "execution_count": 35,
   "metadata": {},
   "outputs": [
    {
     "name": "stdout",
     "output_type": "stream",
     "text": [
      "['Lallith', 'kavi', 'Danger', 'Cr7', 'Messi', 'Santiago Bernabeu']\n",
      "('Lallith', 'kavi', 'Danger', 'Cr7', 'Messi', 'Santiago Bernabeu')\n",
      "Lallith kavi Danger Cr7 Messi Santiago Bernabeu "
     ]
    }
   ],
   "source": [
    "lis=[]\n",
    "names=[\"Lallith\",\"kavi\",\"Danger\",[1,2,3],\"Cr7\",\"Messi\",\"Santiago Bernabeu\",1,2,3,4]\n",
    "for i in names:\n",
    "    if isinstance(i,str):\n",
    "        lis.append(i)\n",
    "print(lis)\n",
    "t=tuple(lis)\n",
    "print(t)\n",
    "for i in t:\n",
    "    print(i,end=\" \")\n",
    "     \n",
    "        \n",
    "    \n",
    "       \n",
    "    "
   ]
  },
  {
   "cell_type": "code",
   "execution_count": 47,
   "metadata": {},
   "outputs": [
    {
     "name": "stdout",
     "output_type": "stream",
     "text": [
      "grape fig elderberry dates cherry banana "
     ]
    }
   ],
   "source": [
    "### Accessing elements in a list\n",
    "\n",
    "fruits=[\"apple\",\"banana\",\"cherry\",\"dates\",\"elderberry\",\"fig\",\"grape\"]\n",
    "for i in fruits[6:0:-1]:\n",
    "    print(i,end=\" \")"
   ]
  },
  {
   "cell_type": "code",
   "execution_count": 61,
   "metadata": {},
   "outputs": [
    {
     "name": "stdout",
     "output_type": "stream",
     "text": [
      "['grape', 'fig', 'elderberry']\n"
     ]
    }
   ],
   "source": [
    "print(fruits[6:3:-1])"
   ]
  },
  {
   "cell_type": "code",
   "execution_count": 62,
   "metadata": {},
   "outputs": [
    {
     "name": "stdout",
     "output_type": "stream",
     "text": [
      "['apple', 'blackberry', 'cherry', 'dates', 'elderberry', 'fig', 'grape']\n"
     ]
    }
   ],
   "source": [
    "## modifying elements in a list\n",
    "fruits[1]=\"blackberry\"\n",
    "print(fruits)"
   ]
  },
  {
   "cell_type": "code",
   "execution_count": 66,
   "metadata": {},
   "outputs": [
    {
     "name": "stdout",
     "output_type": "stream",
     "text": [
      "['apple', 'watermelon', 'kiwi', 'fig', 'grape']\n"
     ]
    }
   ],
   "source": [
    "fruits[1:3]=[\"watermelon\",\"kiwi\"]\n",
    "print( fruits)"
   ]
  },
  {
   "cell_type": "code",
   "execution_count": 67,
   "metadata": {},
   "outputs": [
    {
     "name": "stdout",
     "output_type": "stream",
     "text": [
      "['apple', 'watermelon', 'kiwi', 'fig', 'grape', 'mango']\n"
     ]
    }
   ],
   "source": [
    "### list methods\n",
    "\n",
    "fruits.append(\"mango\")\n",
    "print(fruits)"
   ]
  },
  {
   "cell_type": "code",
   "execution_count": 76,
   "metadata": {},
   "outputs": [
    {
     "name": "stdout",
     "output_type": "stream",
     "text": [
      "['watermelon', 'kiwi', 'orange', 'fig', 'grape', 'mango']\n",
      "2\n"
     ]
    }
   ],
   "source": [
    "fruits.insert(2,\"orange\")\n",
    "print(fruits)\n",
    "print(fruits.index(\"orange\"))"
   ]
  },
  {
   "cell_type": "code",
   "execution_count": 77,
   "metadata": {},
   "outputs": [
    {
     "name": "stdout",
     "output_type": "stream",
     "text": [
      "['watermelon', 'kiwi', 'orange', 'fig', 'grape', 'mango']\n"
     ]
    }
   ],
   "source": [
    "print(fruits)"
   ]
  },
  {
   "cell_type": "code",
   "execution_count": 79,
   "metadata": {},
   "outputs": [
    {
     "name": "stdout",
     "output_type": "stream",
     "text": [
      "['watermelon', 'fig', 'grape', 'mango']\n"
     ]
    }
   ],
   "source": [
    "fruits.remove(\"orange\")\n",
    "print(fruits)"
   ]
  },
  {
   "cell_type": "code",
   "execution_count": 27,
   "metadata": {},
   "outputs": [
    {
     "data": {
      "text/plain": [
       "'dates'"
      ]
     },
     "execution_count": 27,
     "metadata": {},
     "output_type": "execute_result"
    }
   ],
   "source": [
    "fruits.pop(1)\n"
   ]
  },
  {
   "cell_type": "code",
   "execution_count": 4,
   "metadata": {},
   "outputs": [
    {
     "name": "stdout",
     "output_type": "stream",
     "text": [
      "['apple', 'banana', 'cherry', 'dates', 'elderberry', 'fig', 'grape']\n",
      "['apple', 'banana', 'cherry', 'dates', 'elderberry', 'fig', 'grape', 1, 2, 3, 4, 5, 6, 7, 8, 9, 10]\n"
     ]
    }
   ],
   "source": [
    "fruits=[\"apple\",\"banana\",\"cherry\",\"dates\",\"elderberry\",\"fig\",\"grape\"]\n",
    "num=[1,2,3,4,5,6,7,8,9,10]\n",
    "fruits.extend(num)\n",
    "print(fruits)"
   ]
  },
  {
   "cell_type": "code",
   "execution_count": 19,
   "metadata": {},
   "outputs": [
    {
     "name": "stdout",
     "output_type": "stream",
     "text": [
      "[1, 2, 2, 3, 5, 6, 7]\n",
      "None\n"
     ]
    }
   ],
   "source": [
    "fruits.count(\"apple\")\n",
    "num=[2,6,7,1,3,5,2]\n",
    "num.sort()\n",
    "print(num)\n",
    "rev=num.reverse()\n",
    "print(rev)\n"
   ]
  },
  {
   "cell_type": "code",
   "execution_count": 28,
   "metadata": {},
   "outputs": [
    {
     "name": "stdout",
     "output_type": "stream",
     "text": [
      "['apple', 'elderberry', 'fig', 'grape', 1, 2, 3, 4, 5, 6, 7, 8, 9, 10]\n"
     ]
    }
   ],
   "source": [
    "print(fruits)"
   ]
  },
  {
   "cell_type": "code",
   "execution_count": 31,
   "metadata": {},
   "outputs": [
    {
     "data": {
      "text/plain": [
       "123"
      ]
     },
     "execution_count": 31,
     "metadata": {},
     "output_type": "execute_result"
    }
   ],
   "source": [
    "fruits.insert(1,\"apple\")\n",
    "fruits.count (\"apple\")\n",
    "n=[12,23,123]\n",
    "max(n)"
   ]
  },
  {
   "cell_type": "code",
   "execution_count": 36,
   "metadata": {},
   "outputs": [
    {
     "name": "stdout",
     "output_type": "stream",
     "text": [
      "[3, 4, 5]\n",
      "[1, 2, 3, 4, 5]\n",
      "[6, 7, 8, 9, 10]\n",
      "[1, 3, 5, 7, 9]\n",
      "[10, 9, 8, 7, 6, 5, 4, 3, 2, 1]\n",
      "[1, 2, 3, 4, 5, 6, 7, 8, 9, 10]\n",
      "[10, 6, 2]\n"
     ]
    }
   ],
   "source": [
    "## SLicing List\n",
    "\n",
    "numbers=[1,2,3,4,5,6,7,8,9,10]\n",
    "\n",
    "print(numbers[2:5])\n",
    "print(numbers[:5])\n",
    "print(numbers[5:])\n",
    "print(numbers[::2])\n",
    "print(numbers[::-1])\n",
    "print(numbers[::])\n",
    "print(numbers[::-4])"
   ]
  },
  {
   "cell_type": "code",
   "execution_count": 38,
   "metadata": {},
   "outputs": [
    {
     "name": "stdout",
     "output_type": "stream",
     "text": [
      "1\n",
      "2\n",
      "3\n",
      "4\n",
      "5\n",
      "6\n",
      "7\n",
      "8\n",
      "9\n",
      "10\n"
     ]
    }
   ],
   "source": [
    "## Iterating over a list\n",
    "num=[1,2,3,4,5,6,7,8,9,10]\n",
    "for i in num:\n",
    "    print(i)"
   ]
  },
  {
   "cell_type": "code",
   "execution_count": 54,
   "metadata": {},
   "outputs": [
    {
     "name": "stdout",
     "output_type": "stream",
     "text": [
      "Index:0, Number:1\n",
      "Index:1, Number:2\n",
      "Index:2, Number:3\n",
      "Index:3, Number:4\n",
      "Index:4, Number:5\n",
      "Index:5, Number:6\n",
      "Index:6, Number:7\n",
      "Index:7, Number:8\n",
      "Index:8, Number:9\n",
      "Index:9, Number:10\n"
     ]
    }
   ],
   "source": [
    "## Enumerating over a list\n",
    "for index,number in enumerate(num):\n",
    "    print(f\"Index:{index}, Number:{number}\")\n",
    "    "
   ]
  },
  {
   "cell_type": "code",
   "execution_count": 55,
   "metadata": {},
   "outputs": [
    {
     "name": "stdout",
     "output_type": "stream",
     "text": [
      "[0, 1, 4, 9, 16]\n",
      "0\n",
      "1\n",
      "4\n",
      "9\n",
      "16\n"
     ]
    }
   ],
   "source": [
    "## List Comprehension\n",
    "\n",
    "lst=[]\n",
    "for i in range (5):\n",
    "    lst.append(i**2)\n",
    "print(lst)\n"
   ]
  },
  {
   "cell_type": "code",
   "execution_count": 60,
   "metadata": {},
   "outputs": [
    {
     "data": {
      "text/plain": [
       "[0, 1, 4, 9, 16]"
      ]
     },
     "execution_count": 60,
     "metadata": {},
     "output_type": "execute_result"
    }
   ],
   "source": [
    "# single line comprehension\n",
    "[i**2 for i in range(5)]\n",
    "\n"
   ]
  },
  {
   "cell_type": "markdown",
   "metadata": {},
   "source": [
    "### List Comprehension\n",
    "\n",
    "Basic Syntax              [expression for item in iterable]\n",
    "\n",
    "with conditional logic    [expression for item in iterable if condition]\n",
    "\n",
    "Nested list Comprehension  [expressin for item1 in iterable1 for item2 in iterable2]"
   ]
  },
  {
   "cell_type": "code",
   "execution_count": 62,
   "metadata": {},
   "outputs": [
    {
     "name": "stdout",
     "output_type": "stream",
     "text": [
      "[0, 1, 4, 9, 16, 25, 36, 49, 64, 81]\n"
     ]
    }
   ],
   "source": [
    "## Basic list comprehension\n",
    "\n",
    "square=[n**2 for n in range(10)]\n",
    "print(square)"
   ]
  },
  {
   "cell_type": "code",
   "execution_count": 70,
   "metadata": {},
   "outputs": [
    {
     "name": "stdout",
     "output_type": "stream",
     "text": [
      "[1, 9, 25, 49, 81]\n"
     ]
    }
   ],
   "source": [
    "## List comprehension with if statement\n",
    "sq=[i**2 for i in range(10) if i%2!=0]\n",
    "print(sq)"
   ]
  },
  {
   "cell_type": "code",
   "execution_count": 71,
   "metadata": {},
   "outputs": [
    {
     "name": "stdout",
     "output_type": "stream",
     "text": [
      "[[1, 'a'], [1, 'b'], [1, 'c'], [1, 'd'], [2, 'a'], [2, 'b'], [2, 'c'], [2, 'd'], [3, 'a'], [3, 'b'], [3, 'c'], [3, 'd'], [4, 'a'], [4, 'b'], [4, 'c'], [4, 'd']]\n"
     ]
    }
   ],
   "source": [
    "## Nested list comprehension\n",
    "\n",
    "lst1=[1,2,3,4]\n",
    "lst2=['a','b','c','d']\n",
    "pair =[[i,j] for i in lst1 for j in lst2]\n",
    "print(pair)\n"
   ]
  },
  {
   "cell_type": "code",
   "execution_count": 94,
   "metadata": {},
   "outputs": [
    {
     "name": "stdout",
     "output_type": "stream",
     "text": [
      "[1, 'a'] [1, 'b'] [1, 'c'] [1, 'd'] [2, 'a'] [2, 'b'] [2, 'c'] [2, 'd'] [3, 'a'] [3, 'b'] [3, 'c'] [3, 'd'] [4, 'a'] [4, 'b'] [4, 'c'] [4, 'd'] "
     ]
    }
   ],
   "source": [
    "lst1=[1,2,3,4]\n",
    "lst2=['a','b','c','d']\n",
    "for i in lst1:\n",
    "    for j in lst2:\n",
    "        print([i,j], end= \" \")"
   ]
  },
  {
   "cell_type": "code",
   "execution_count": 97,
   "metadata": {},
   "outputs": [
    {
     "name": "stdout",
     "output_type": "stream",
     "text": [
      "[5, 5, 6, 2, 7]\n"
     ]
    }
   ],
   "source": [
    "## List  Comprehension with function calls\n",
    "words = [\"hello\",\"world\",\"python\",\"is\",\"awesome\"]\n",
    "length=[len(word) for word in words]\n",
    "print(length)"
   ]
  },
  {
   "cell_type": "code",
   "execution_count": 100,
   "metadata": {},
   "outputs": [
    {
     "name": "stdout",
     "output_type": "stream",
     "text": [
      "[0, 1, 2, 9, 4, 25, 6, 49, 8, 81]\n"
     ]
    }
   ],
   "source": [
    "## list comprehension with if else\n",
    "\n",
    "sa=[i**2  if i%2!=0 else i for i in range (10)]\n",
    "print(sa)"
   ]
  }
 ],
 "metadata": {
  "kernelspec": {
   "display_name": "Python 3",
   "language": "python",
   "name": "python3"
  },
  "language_info": {
   "codemirror_mode": {
    "name": "ipython",
    "version": 3
   },
   "file_extension": ".py",
   "mimetype": "text/x-python",
   "name": "python",
   "nbconvert_exporter": "python",
   "pygments_lexer": "ipython3",
   "version": "3.12.0"
  }
 },
 "nbformat": 4,
 "nbformat_minor": 2
}
