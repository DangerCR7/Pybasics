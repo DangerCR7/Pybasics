{
 "cells": [
  {
   "cell_type": "markdown",
   "metadata": {},
   "source": [
    "## Polymorphism\n",
    "\n",
    "Polymorphism is a core concept in OOP that allows objects of different classes to be treated as objects of a common superclass. It provides a way to perform a single action in different forms. Polymorphisms is typically achieved through method overriding and interfaces\n"
   ]
  },
  {
   "cell_type": "markdown",
   "metadata": {},
   "source": [
    "## Method Overriding\n",
    "\n",
    "Method Overriding allows a child class to provide a specific implementation of a method that is already defined in its parent class."
   ]
  },
  {
   "cell_type": "code",
   "execution_count": 9,
   "metadata": {},
   "outputs": [
    {
     "name": "stdout",
     "output_type": "stream",
     "text": [
      "Woof!!\n",
      "Meow!\n",
      "Meow!\n"
     ]
    }
   ],
   "source": [
    "## Base class\n",
    "class Animal:\n",
    "    def speak(self):\n",
    "        return \"Sound of the Animal\"\n",
    "    def is_speak(self):\n",
    "        return \"No , it don't\"\n",
    "\n",
    "## Derived class 1\n",
    "\n",
    "class Dog(Animal):\n",
    "    def speak(self):\n",
    "        return \"Woof!!\"\n",
    "\n",
    "    \n",
    "## Derived class 2\n",
    "class Cat(Animal):\n",
    "    def speak(self):\n",
    "        return \"Meow!\"\n",
    "    \n",
    "## Function that demonstrates Polymorphism\n",
    "def animal_speak(animal):\n",
    "    print(animal.speak())\n",
    "\n",
    "dog1=Dog()\n",
    "cat1=Cat()\n",
    "print(dog1.speak())\n",
    "print(cat1.speak())\n",
    "animal_speak(cat1)\n"
   ]
  },
  {
   "cell_type": "code",
   "execution_count": 13,
   "metadata": {},
   "outputs": [
    {
     "name": "stdout",
     "output_type": "stream",
     "text": [
      "The area of the figure\n",
      "The area is The area of the figure\n",
      "The area is 50.24\n"
     ]
    }
   ],
   "source": [
    "### Polymorphism with function and methods\n",
    "## Base Class\n",
    "\n",
    "class Shape:\n",
    "    def area(self):\n",
    "        return \"The area of the figure\"\n",
    "\n",
    "## derived class1\n",
    "class Rectangle(Shape):\n",
    "    def __init__(self,width,lenght):\n",
    "        self.length=lenght\n",
    "        self.width =width\n",
    "        \n",
    "    def area(self):\n",
    "        return self.width*self.length\n",
    "## Derived class 2\n",
    "class Circle(Shape):\n",
    "    def __init__(self,radius):\n",
    "        self.radius=radius\n",
    "    def area(self):\n",
    "        return 3.14*self.radius*self.radius\n",
    "## Function that demonstrates polymorphism\n",
    "\n",
    "def print_area(shape):\n",
    "    print(f\"The area is {shape.area()}\")\n",
    "    \n",
    "rect=Rectangle(4,5)\n",
    "circle=Circle(4)\n",
    "\n",
    "print_area(rect)\n",
    "print_area(circle)\n",
    "\n",
    "\n"
   ]
  },
  {
   "cell_type": "markdown",
   "metadata": {},
   "source": [
    "## Polymorphism with Abstract Base Class\n",
    "\n",
    "Abstract Base Classes (ABCs) are used to define common methods for a group of related objects. They can enforce that derived classes implement particular methods ,promoting ,consistency across different implementations."
   ]
  },
  {
   "cell_type": "code",
   "execution_count": 10,
   "metadata": {},
   "outputs": [
    {
     "name": "stdout",
     "output_type": "stream",
     "text": [
      "Car engine started \n"
     ]
    }
   ],
   "source": [
    "## \n",
    "from abc import ABC,abstractmethod\n",
    "\n",
    "## Define an abstract class\n",
    "class Vehicle(ABC):\n",
    "    @abstractmethod\n",
    "    def start_engine(self):\n",
    "        pass\n",
    "## Derived class 1\n",
    "class Car(Vehicle):\n",
    "    def start_engine(self):\n",
    "        return \"Car engine started \"\n",
    "    \n",
    "## Derived class 2\n",
    "class MotorCycle(Vehicle):\n",
    "    def start_engine(self):\n",
    "        return \"MotorCycle is started\"\n",
    "    \n",
    "## Function that demonstrate polymorphism\n",
    "def start_vechile(vehicle):\n",
    "    print(vehicle.start_engine())\n",
    "    \n",
    "## Create objects of car and motorcycle\n",
    "car=Car()\n",
    "moto=MotorCycle()\n",
    "start_vechile(car)"
   ]
  }
 ],
 "metadata": {
  "kernelspec": {
   "display_name": "Python 3",
   "language": "python",
   "name": "python3"
  },
  "language_info": {
   "codemirror_mode": {
    "name": "ipython",
    "version": 3
   },
   "file_extension": ".py",
   "mimetype": "text/x-python",
   "name": "python",
   "nbconvert_exporter": "python",
   "pygments_lexer": "ipython3",
   "version": "3.12.0"
  }
 },
 "nbformat": 4,
 "nbformat_minor": 2
}
