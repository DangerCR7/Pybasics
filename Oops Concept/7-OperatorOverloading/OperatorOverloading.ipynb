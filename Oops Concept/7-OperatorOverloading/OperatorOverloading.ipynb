{
 "cells": [
  {
   "cell_type": "markdown",
   "metadata": {},
   "source": [
    "## Operator Overloading\n",
    "\n",
    "Operator overloading allows you to define the behaviour of operator (+,-,*,/, etc.,) for custom objects .You achieve this by overriding specific magic methods in your class."
   ]
  },
  {
   "cell_type": "code",
   "execution_count": 3,
   "metadata": {},
   "outputs": [
    {
     "data": {
      "text/plain": [
       "'\\n    __add__(self,other):Adds two objects using the * operator .\\n    __sub__(self,other): Subtracts two obkects using the - operator .\\n    __mul__(self, other):Multiplies two objects using the * operator.\\n    __trudiv__(self, other): Divides two objects using the / operator.\\n    __eq__(self, other): Checks if two objects are equal using the == operator.\\n    __it__(self, other): Checks if one objects is less than another using the < operator.\\n    \\n    \\n    '"
      ]
     },
     "execution_count": 3,
     "metadata": {},
     "output_type": "execute_result"
    }
   ],
   "source": [
    "### Common Operator Overloading MAgic Methods\n",
    "\"\"\"\n",
    "    __add__(self,other):Adds two objects using the * operator .\n",
    "    __sub__(self,other): Subtracts two obkects using the - operator .\n",
    "    __mul__(self, other):Multiplies two objects using the * operator.\n",
    "    __trudiv__(self, other): Divides two objects using the / operator.\n",
    "    __eq__(self, other): Checks if two objects are equal using the == operator.\n",
    "    __it__(self, other): Checks if one objects is less than another using the < operator.\n",
    "    __gt__(self, other): TO get the greater of the two numbers using > operator.\n",
    "    \n",
    "    \n",
    "    \"\"\""
   ]
  },
  {
   "cell_type": "code",
   "execution_count": 10,
   "metadata": {},
   "outputs": [
    {
     "name": "stdout",
     "output_type": "stream",
     "text": [
      "Vector(12, 16)\n",
      "Vector(-8, -10)\n",
      "Vector(20, 39)\n"
     ]
    }
   ],
   "source": [
    "## Mathematical Operation for vectors\n",
    "\n",
    "class Vector:\n",
    "    def __init__(self, x,y):\n",
    "        self.x=x\n",
    "        self.y=y\n",
    "        \n",
    "    def __add__(self, other):\n",
    "        return Vector(self.x+other.x, self.y+other.y)\n",
    "    def __sub__(self,other):\n",
    "        return Vector(self.x-other.x , self.y-other.y)\n",
    "    def __mul__(self,other):\n",
    "        return Vector(self.x* other.x , self.y* other.y)\n",
    "    def __eq__(self,other):\n",
    "        return Vector(self.x== other.x, self.x==other.y)\n",
    "    def __repr__(self):\n",
    "        return f\"Vector({self.x}, {self.y})\"\n",
    "x1=Vector(2,3)\n",
    "x2=Vector(10,13)\n",
    "\n",
    "print(x1+x2)\n",
    "print(x1-x2)\n",
    "print(x1*x2)\n"
   ]
  },
  {
   "cell_type": "code",
   "execution_count": 3,
   "metadata": {},
   "outputs": [
    {
     "name": "stdout",
     "output_type": "stream",
     "text": [
      "28,6\n",
      "2,-2\n",
      "203,187\n",
      "1.0972972972972972,1.0108108108108107\n",
      "False\n"
     ]
    }
   ],
   "source": [
    "## Overloading operators  for Complex numbers\n",
    "\n",
    "class ComplexNumber:\n",
    "    def __init__(self,re,im):\n",
    "        self.re=re\n",
    "        self.im=im\n",
    "    def __add__(self, other):\n",
    "        return ComplexNumber(self.re+other.re, self.im+ other.im)\n",
    "    def __sub__(self,other):\n",
    "        return ComplexNumber(self.re-other.re, self.im- other.im)\n",
    "    def __mul__(self,other):\n",
    "        real_part= self.re * other.re + self.im * other.im\n",
    "        imag_part= self.re* other.re - self.im * other.im\n",
    "        return ComplexNumber(real_part, imag_part)\n",
    "    def __truediv__(self,other):\n",
    "        denominator= other. re**2 +other.im**2\n",
    "        real_part= (self.re * other.re + self.im * other.im)/denominator\n",
    "        imag_part= (self.re* other.re - self.im * other.im )/denominator\n",
    "        return ComplexNumber(real_part,imag_part)\n",
    "    def __eq__(self,other):\n",
    "        return self.re ==other.re and self.im== other.im\n",
    "    def __repr__(self):\n",
    "        return f\"{self.re},{self.im}\"\n",
    "    \n",
    "c1=ComplexNumber(15,2)\n",
    "c2=ComplexNumber(13,4)\n",
    "\n",
    "print(c1+c2)\n",
    "print(c1-c2)\n",
    "print(c1*c2)\n",
    "print(c1/c2)\n",
    "print(c1==c2)\n",
    "        \n",
    "        "
   ]
  }
 ],
 "metadata": {
  "kernelspec": {
   "display_name": "Python 3",
   "language": "python",
   "name": "python3"
  },
  "language_info": {
   "codemirror_mode": {
    "name": "ipython",
    "version": 3
   },
   "file_extension": ".py",
   "mimetype": "text/x-python",
   "name": "python",
   "nbconvert_exporter": "python",
   "pygments_lexer": "ipython3",
   "version": "3.12.0"
  }
 },
 "nbformat": 4,
 "nbformat_minor": 2
}
